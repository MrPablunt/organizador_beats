{
  "nbformat": 4,
  "nbformat_minor": 0,
  "metadata": {
    "colab": {
      "provenance": [],
      "gpuType": "T4",
      "mount_file_id": "1yrcJgSXpLn2K_l2fVHaHHMAdpxNcoRkI",
      "authorship_tag": "ABX9TyMZ/DrS+sSkaumMur3a/AEJ",
      "include_colab_link": true
    },
    "kernelspec": {
      "name": "python3",
      "display_name": "Python 3"
    },
    "language_info": {
      "name": "python"
    },
    "accelerator": "GPU"
  },
  "cells": [
    {
      "cell_type": "markdown",
      "metadata": {
        "id": "view-in-github",
        "colab_type": "text"
      },
      "source": [
        "<a href=\"https://colab.research.google.com/github/MrPablunt/organizador_beats/blob/main/organizador_beats.ipynb\" target=\"_parent\"><img src=\"https://colab.research.google.com/assets/colab-badge.svg\" alt=\"Open In Colab\"/></a>"
      ]
    },
    {
      "cell_type": "code",
      "metadata": {
        "colab": {
          "base_uri": "https://localhost:8080/"
        },
        "id": "c9a70155",
        "outputId": "328fbfdf-d47d-456c-bf5d-64a55a81af49"
      },
      "source": [
        "from google.colab import drive\n",
        "drive.mount('/content/drive')"
      ],
      "execution_count": 1,
      "outputs": [
        {
          "output_type": "stream",
          "name": "stdout",
          "text": [
            "Drive already mounted at /content/drive; to attempt to forcibly remount, call drive.mount(\"/content/drive\", force_remount=True).\n"
          ]
        }
      ]
    },
    {
      "cell_type": "code",
      "execution_count": 2,
      "metadata": {
        "colab": {
          "base_uri": "https://localhost:8080/"
        },
        "id": "Z-DM7pZAFmth",
        "outputId": "e9bad967-85bf-4854-fc36-569b678c23db"
      },
      "outputs": [
        {
          "output_type": "stream",
          "name": "stdout",
          "text": [
            "\n",
            "--- INICIANDO PROCESO DE ORGANIZACIÓN DE BEATS ---\n",
            "ERROR CRÍTICO DE AUTENTICACIÓN: El archivo de credenciales 'braided-grammar-465202-t4-f058b52a6154.json' NO SE ENCONTRÓ.\n",
            "POSIBLE SOLUCIÓN: \n",
            "  1. Verifica que el nombre del archivo en 'SERVICE_ACCOUNT_FILE' es EXACTO (incluyendo .json).\n",
            "  2. Asegúrate de que el archivo JSON está en la MISMA CARPETA que este script.\n",
            "  3. Si lo guardaste en otro lugar, pon la RUTA COMPLETA al archivo.\n",
            "SCRIPT DETENIDO: No se pudo autenticar con Google.\n"
          ]
        }
      ],
      "source": [
        "# -*- coding: utf-8 -*-\n",
        "import gspread\n",
        "from google.oauth2.service_account import Credentials\n",
        "import os\n",
        "import librosa\n",
        "import soundfile as sf\n",
        "from mutagen.mp3 import MP3\n",
        "from mutagen.id3 import ID3NoHeaderError, ID3, TIT2, TPE1, TCON, TXXX\n",
        "import requests\n",
        "from googleapiclient.discovery import build\n",
        "import datetime\n",
        "\n",
        "# --- CONFIGURACIÓN CRÍTICA: ¡VERIFICAR CADA VALOR! ---\n",
        "# Ruta al archivo JSON de tus credenciales de Google Cloud\n",
        "SERVICE_ACCOUNT_FILE = 'braided-grammar-465202-t4-f058b52a6154.json'\n",
        "\n",
        "# --- Archivo de configuración para el SPREADSHEET_ID ---\n",
        "# Este archivo guardará el ID de la Google Sheet. Se creará si no existe.\n",
        "CONFIG_FILE = 'config.txt'\n",
        "\n",
        "# ID de tu Google Sheet 'Catálogo de Beats' (ID inicial para la primera vez o si config.txt está vacío)\n",
        "# El script intentará usar el ID de CONFIG_FILE primero. Si no lo encuentra, usará este ID.\n",
        "# Si aún no lo encuentra o no existe, intentará crear una nueva hoja y actualizará CONFIG_FILE.\n",
        "# ¡IMPORTANTE! Este SPREADSHEET_ID hardcodeado solo se usará si config.txt está vacío o falla.\n",
        "# Una vez que config.txt se escriba, siempre leerá de ahí.\n",
        "SPREADSHEET_ID = '19KvhoVYV0XIRZ3FfFTwBRPXjNSMyeAkFYUFl6I1kUEQ'\n",
        "# Nombre EXACTO de la pestaña/hoja dentro de tu Google Sheet. Normalmente es 'Hoja 1'.\n",
        "WORKSHEET_NAME = 'Hoja 1'\n",
        "\n",
        "# ID de tu carpeta 'Nuevos Beats' en Google Drive (donde subes los beats a organizar)\n",
        "NUEVOS_BEATS_FOLDER_ID = '1fwLKWkWvn8TY6SSL7kQgaVtZ5olZFuyw'\n",
        "\n",
        "# ID de tu carpeta 'Beats organizados por género' en Google Drive (donde se crearán las subcarpetas de género)\n",
        "ORGANIZED_BEATS_PARENT_FOLDER_ID = '1nILKS4_YglgyLRuA_X6107N6ThMbsB8o'\n",
        "\n",
        "# --- CONFIGURACIÓN DE RUTAS LOCALES Y PERMISOS ---\n",
        "# Alcances (permisos) que tu robot necesita en Google\n",
        "SCOPE = [\n",
        "    'https://www.googleapis.com/auth/spreadsheets.readonly',\n",
        "    'https://www.googleapis.com/auth/spreadsheets',\n",
        "    'https://www.googleapis.com/auth/drive',\n",
        "    'https://www.googleapis.com/auth/drive.file'\n",
        "]\n",
        "\n",
        "# Carpeta temporal en tu computadora para descargar y procesar beats\n",
        "DOWNLOAD_TEMP_DIR = 'temp_beats_processing'\n",
        "if not os.path.exists(DOWNLOAD_TEMP_DIR):\n",
        "    try:\n",
        "        os.makedirs(DOWNLOAD_TEMP_DIR)\n",
        "    except OSError as e:\n",
        "        print(f\"ERROR FATAL: No se pudo crear la carpeta temporal '{DOWNLOAD_TEMP_DIR}'. Mensaje: {e}\")\n",
        "        print(\"VERIFICAR: Permisos de escritura en el escritorio o ruta del script.\")\n",
        "        exit(1)\n",
        "\n",
        "# --- FIN DE CONFIGURACIÓN Y DECLARACIONES ---\n",
        "\n",
        "# --- FUNCIONES DE MANEJO DE ARCHIVO DE CONFIGURACIÓN ---\n",
        "def read_spreadsheet_id_from_config():\n",
        "    \"\"\"Lee el ID de la hoja de cálculo desde el archivo de configuración.\"\"\"\n",
        "    if os.path.exists(CONFIG_FILE):\n",
        "        try:\n",
        "            with open(CONFIG_FILE, 'r', encoding='utf-8') as f:\n",
        "                return f.readline().strip()\n",
        "        except Exception as e:\n",
        "            print(f\"ADVERTENCIA: No se pudo leer el ID de la hoja desde '{CONFIG_FILE}'. Mensaje: {e}\")\n",
        "    return None\n",
        "\n",
        "def write_spreadsheet_id_to_config(new_id):\n",
        "    \"\"\"Escribe el ID de la hoja de cálculo en el archivo de configuración.\"\"\"\n",
        "    try:\n",
        "        with open(CONFIG_FILE, 'w', encoding='utf-8') as f:\n",
        "            f.write(new_id + '\\n')\n",
        "        print(f\"ACTUALIZACIÓN: Nuevo SPREADSHEET_ID '{new_id}' guardado en '{CONFIG_FILE}'.\")\n",
        "    except Exception as e:\n",
        "        print(f\"ERROR: No se pudo guardar el nuevo SPREADSHEET_ID en '{CONFIG_FILE}'. Mensaje: {e}\")\n",
        "        print(\"VERIFICAR: Permisos de escritura en la carpeta del script para crear/actualizar '{CONFIG_FILE}'.\")\n",
        "# --- FIN FUNCIONES DE MANEJO DE ARCHIVO DE CONFIGURACIÓN ---\n",
        "\n",
        "\n",
        "def authenticate_google():\n",
        "    \"\"\"\n",
        "    Autentica con Google usando la cuenta de servicio.\n",
        "    Verifica que el archivo de credenciales exista y que los permisos sean correctos.\n",
        "    \"\"\"\n",
        "    if not os.path.exists(SERVICE_ACCOUNT_FILE):\n",
        "        print(f\"ERROR CRÍTICO DE AUTENTICACIÓN: El archivo de credenciales '{SERVICE_ACCOUNT_FILE}' NO SE ENCONTRÓ.\")\n",
        "        print(\"POSIBLE SOLUCIÓN: \")\n",
        "        print(\"  1. Verifica que el nombre del archivo en 'SERVICE_ACCOUNT_FILE' es EXACTO (incluyendo .json).\")\n",
        "        print(\"  2. Asegúrate de que el archivo JSON está en la MISMA CARPETA que este script.\")\n",
        "        print(\"  3. Si lo guardaste en otro lugar, pon la RUTA COMPLETA al archivo.\")\n",
        "        return None, None, None\n",
        "\n",
        "    try:\n",
        "        gc = gspread.service_account(filename=SERVICE_ACCOUNT_FILE)\n",
        "        creds = Credentials.from_service_account_file(SERVICE_ACCOUNT_FILE, scopes=SCOPE)\n",
        "        drive_service = build('drive', 'v3', credentials=creds)\n",
        "\n",
        "        print(\"Autenticación exitosa (gspread y Drive API).\")\n",
        "        return gc, drive_service, creds\n",
        "    except Exception as e:\n",
        "        print(f\"ERROR CRÍTICO DE AUTENTICACIÓN: Falló la conexión con Google. Mensaje: {e}\")\n",
        "        print(\"POSIBLE SOLUCIÓN: \")\n",
        "        print(\"  1. El archivo JSON puede estar corrupto o incorrecto.\")\n",
        "        print(\"  2. La CUENTA DE SERVICIO (el email que termina en @gserviceaccount.com) NO TIENE PERMISOS de 'Editor' en:\")\n",
        "        print(\"     - La Google Sheet (cuyo ID está en config.txt)\")\n",
        "        print(f\"     - La carpeta 'Nuevos Beats' (ID: {NUEVOS_BEATS_FOLDER_ID})\")\n",
        "        print(f\"     - La carpeta 'Beats organizados por género' (ID: {ORGANIZED_BEATS_PARENT_FOLDER_ID})\")\n",
        "        print(\"  3. Las APIs de 'Google Drive API' y 'Google Sheets API' NO están HABILITADAS en tu proyecto de Google Cloud.\")\n",
        "        return None, None, None\n",
        "\n",
        "def get_sheet_data(gc, initial_spreadsheet_id, worksheet_name):\n",
        "    \"\"\"\n",
        "    Intenta abrir la hoja de cálculo por ID. Si no la encuentra, intenta por nombre.\n",
        "    Si aún no la encuentra, crea una nueva hoja. Actualiza el archivo de configuración con el ID utilizado.\n",
        "    \"\"\"\n",
        "    spreadsheet = None\n",
        "    spreadsheet_id_to_use = initial_spreadsheet_id # ID que intentaremos usar o que crearemos\n",
        "\n",
        "    if spreadsheet_id_to_use:\n",
        "        try:\n",
        "            spreadsheet = gc.open_by_key(spreadsheet_id_to_use)\n",
        "            print(f\"CONEXIÓN: Hoja de cálculo '{spreadsheet.title}' abierta por ID: {spreadsheet.id}\")\n",
        "            write_spreadsheet_id_to_config(spreadsheet.id) # Guardar el ID confirmado en config.txt\n",
        "            return spreadsheet, spreadsheet.get_all_records(), spreadsheet.row_values(1)\n",
        "        except gspread.exceptions.SpreadsheetNotFound:\n",
        "            print(f\"ADVERTENCIA: Hoja de cálculo con ID '{spreadsheet_id_to_use}' NO ENCONTRADA o accesible.\")\n",
        "            print(\"Intentando buscar por nombre o crear una nueva...\")\n",
        "        except Exception as e:\n",
        "            print(f\"ERROR CRÍTICO: Falló al intentar abrir la hoja por ID '{spreadsheet_id_to_use}'. Mensaje: {e}\")\n",
        "            print(\"POSIBLE SOLUCIÓN: Podría ser un problema de permisos o de conexión a Google Sheets.\")\n",
        "            return None, None, None\n",
        "    else:\n",
        "        print(\"ADVERTENCIA: No se encontró un SPREADSHEET_ID inicial o en config.txt. Intentando buscar por nombre o crear una nueva hoja.\")\n",
        "\n",
        "    if spreadsheet is None: # Si no se pudo abrir por ID, intentar por nombre o crear\n",
        "        try:\n",
        "            print(f\"Intentando abrir la hoja por nombre: '{worksheet_name}'...\")\n",
        "            spreadsheet = gc.open(worksheet_name)\n",
        "            print(f\"CONEXIÓN: Hoja de cálculo '{worksheet_name}' abierta por nombre: {spreadsheet.id}\")\n",
        "            write_spreadsheet_id_to_config(spreadsheet.id) # Guardar el ID del config.txt con el nombre encontrado\n",
        "        except gspread.exceptions.SpreadsheetNotFound:\n",
        "            print(f\"ADVERTENCIA: Hoja de cálculo con nombre '{worksheet_name}' NO ENCONTRADA.\")\n",
        "            print(\"Creando una nueva hoja de cálculo...\")\n",
        "            try:\n",
        "                timestamp = datetime.datetime.now().strftime(\"%Y%m%d_%H%M%S\")\n",
        "                new_sheet_name = f\"Catalogo_Beats_AutoCreada_{timestamp}\"\n",
        "                spreadsheet = gc.create(new_sheet_name)\n",
        "                print(f\"¡ÉXITO! Nueva hoja '{new_sheet_name}' creada con ID: {spreadsheet.id}\")\n",
        "                write_spreadsheet_id_to_config(spreadsheet.id) # ¡Actualizar el archivo de configuración con el nuevo ID!\n",
        "            except Exception as e:\n",
        "                print(f\"ERROR CRÍTICO: Falló la creación de una nueva hoja de cálculo. Mensaje: {e}\")\n",
        "                print(\"POSIBLE SOLUCIÓN: Permisos insuficientes para crear hojas (verificar rol de la cuenta de Google Cloud Console), o error grave de la API.\")\n",
        "                return None, None, None\n",
        "        except Exception as e:\n",
        "            print(f\"ERROR CRÍTICO: No se pudo acceder a la hoja de cálculo por nombre '{worksheet_name}'. Mensaje: {e}\")\n",
        "            print(\"POSIBLE SOLUCIÓN: Podría ser un problema de permisos o de conexión a Google Sheets.\")\n",
        "            return None, None, None\n",
        "\n",
        "    if spreadsheet is None:\n",
        "        return None, None, None\n",
        "\n",
        "    try:\n",
        "        try:\n",
        "            worksheet = spreadsheet.worksheet(worksheet_name)\n",
        "        except gspread.exceptions.WorksheetNotFound:\n",
        "            print(f\"ADVERTENCIA: La hoja de trabajo (pestaña) '{worksheet_name}' no se encontró. Usando la primera hoja disponible.\")\n",
        "            worksheet = spreadsheet.get_worksheet(0)\n",
        "\n",
        "        if not worksheet.row_values(1) or len(worksheet.row_values(1)) < len(['Nombre del Archivo Original', 'Género', 'Ruta en Drive (ID)', 'Enlace de Google Drive', 'BPM', 'Clave Armónica', 'Estado (PENDIENTE/ORGANIZADO)']):\n",
        "             print(\"ADVERTENCIA: Hoja nueva o sin encabezados. Añadiendo encabezados necesarios.\")\n",
        "             header_row = ['Nombre del Archivo Original', 'Género', 'Ruta en Drive (ID)', 'Enlace de Google Drive', 'BPM', 'Clave Armónica', 'Estado (PENDIENTE/ORGANIZADO)']\n",
        "             worksheet.update('A1', [header_row])\n",
        "\n",
        "        return worksheet, worksheet.get_all_records(), worksheet.row_values(1)\n",
        "    except Exception as e:\n",
        "        print(f\"ERROR CRÍTICO: No se pudo acceder a los datos de la hoja de cálculo. Mensaje: {e}\")\n",
        "        print(\"POSIBLE SOLUCIÓN: Verificar la estructura de la hoja o permisos de lectura.\")\n",
        "        return None, None, None\n",
        "\n",
        "\n",
        "def update_sheet_row(worksheet, row_index, column_name, new_value, headers):\n",
        "    \"\"\"Actualiza una celda específica en la hoja de cálculo. Maneja errores de columna y API.\"\"\"\n",
        "    try:\n",
        "        col_index = headers.index(column_name) + 1\n",
        "        worksheet.update_cell(row_index, col_index, new_value)\n",
        "    except ValueError:\n",
        "        print(f\"ADVERTENCIA: Columna '{column_name}' no encontrada en la hoja para la fila {row_index}. La información no se guardó para esta columna.\")\n",
        "        print(\"POSIBLE SOLUCIÓN: Verifica que el nombre de la columna en tu Google Sheet es EXACTO (incluyendo mayúsculas/minúsculas y espacios).\")\n",
        "    except Exception as e:\n",
        "        print(f\"ERROR: No se pudo actualizar la celda en la fila {row_index}, columna '{column_name}'. Mensaje: {e}\")\n",
        "        print(\"POSIBLE SOLUCIÓN: Podría ser un problema de conexión o cuota de la API de Google Sheets.\")\n",
        "\n",
        "def get_drive_file_info(drive_service, folder_id):\n",
        "    \"\"\"Obtiene información de los archivos en una carpeta de Google Drive. Maneja errores de acceso.\"\"\"\n",
        "    try:\n",
        "        files_info = {}\n",
        "        query = f\"'{folder_id}' in parents and trashed = false\"\n",
        "        results = drive_service.files().list(q=query, fields=\"files(id, name, mimeType)\").execute()\n",
        "        items = results.get('files', [])\n",
        "        for item in items:\n",
        "            files_info[item['name']] = {'id': item['id'], 'mimeType': item['mimeType']}\n",
        "        return files_info\n",
        "    except Exception as e:\n",
        "        print(f\"ERROR: No se pudo acceder a la carpeta de Google Drive con ID '{folder_id}'. Mensaje: {e}\")\n",
        "        print(\"POSIBLE SOLUCIÓN: Verifica que el ID de la carpeta es CORRECTO y la CUENTA DE SERVICIO tiene permisos de 'Editor' en esa carpeta.\")\n",
        "        return {}\n",
        "\n",
        "def download_file(drive_service, file_id, file_name, destination_folder, creds):\n",
        "    \"\"\"Descarga un archivo de Google Drive a una carpeta local. Maneja errores de descarga.\"\"\"\n",
        "    filepath = os.path.join(destination_folder, file_name)\n",
        "    try:\n",
        "        download_url = drive_service.files().get_media(fileId=file_id).uri\n",
        "        headers = {'Authorization': f'Bearer {creds.token}'}\n",
        "        response = requests.get(download_url, headers=headers, stream=True)\n",
        "        response.raise_for_status()\n",
        "\n",
        "        with open(filepath, 'wb') as f:\n",
        "            for chunk in response.iter_content(chunk_size=8192):\n",
        "                if chunk:\n",
        "                    f.write(chunk)\n",
        "        return filepath\n",
        "    except requests.exceptions.HTTPError as err:\n",
        "        print(f\"ERROR DE DESCARGA HTTP para '{file_name}' (ID: {file_id}). Código: {err.response.status_code}. Mensaje: {err.response.text}\")\n",
        "        print(\"POSIBLE SOLUCIÓN: El archivo no existe en Drive (ID incorrecto) o hay un problema temporal de Google Drive.\")\n",
        "        return None\n",
        "    except requests.exceptions.ConnectionError as err:\n",
        "        print(f\"ERROR DE CONEXIÓN al descargar '{file_name}'. Mensaje: {err}\")\n",
        "        print(\"POSIBLE SOLUCIÓN: Problemas de conexión a internet o firewall bloqueando la conexión.\")\n",
        "        return None\n",
        "    except Exception as e:\n",
        "        print(f\"ERROR GENERAL al descargar '{file_name}'. Mensaje: {e}\")\n",
        "        print(\"POSIBLE SOLUCIÓN: Verificar permisos de escritura en la carpeta temporal.\")\n",
        "        return None\n",
        "\n",
        "def analyze_audio(filepath):\n",
        "    \"\"\"Analiza un archivo de audio para BPM y clave usando Librosa. Maneja errores de Librosa.\"\"\"\n",
        "    if not filepath:\n",
        "        return \"N/A\", \"N/A\"\n",
        "    try:\n",
        "        y, sr = librosa.load(filepath, sr=None)\n",
        "\n",
        "        onset_env = librosa.onset.onset_detect(y=y, sr=sr)\n",
        "        tempo, _ = librosa.beat.beat_track(onset_env=onset_env, sr=sr)\n",
        "\n",
        "        chroma = librosa.feature.chroma_stft(y=y, sr=sr)\n",
        "        key_mode = librosa.key_to_notes(librosa.feature.tonnetz(y=y, sr=sr).mean(axis=1))\n",
        "\n",
        "        return round(tempo), key_mode[0] if key_mode else \"N/A\"\n",
        "    except Exception as e:\n",
        "        print(f\"ERROR DE ANÁLISIS DE AUDIO: Falló el análisis de '{filepath}'. Mensaje: {e}\")\n",
        "        print(\"POSIBLE SOLUCIÓN: Asegúrate de que el archivo no está corrupto o es de un formato soportado por Librosa (MP3, WAV, FLAC).\")\n",
        "        return \"N/A\", \"N/A\"\n",
        "\n",
        "def update_audio_metadata(filepath, title, artist, genre, bpm, key):\n",
        "    \"\"\"\n",
        "    Actualiza los metadatos (ID3 tags) de un archivo MP3.\n",
        "    Esta función solo actualiza el archivo LOCAL. El script no lo re-sube a Drive.\n",
        "    \"\"\"\n",
        "    if not filepath or not filepath.lower().endswith('.mp3'):\n",
        "        return\n",
        "\n",
        "    try:\n",
        "        audio = MP3(filepath, ID3=ID3)\n",
        "        if audio.tags is None:\n",
        "            audio.add_tags()\n",
        "\n",
        "        # Añadir o actualizar tags ID3 estándar\n",
        "        audio.tags.add(TIT2(encoding=3, text=[title])) # Título\n",
        "        audio.tags.add(TPE1(encoding=3, text=[artist])) # Artista\n",
        "        audio.tags.add(TCON(encoding=3, text=[genre])) # Género\n",
        "\n",
        "        # Usar TXXX (campo de texto personalizado) para BPM y Clave\n",
        "        audio.tags.delall('TXXX') # Eliminar tags TXXX existentes para evitar duplicados\n",
        "        audio.tags.add(TXXX(encoding=3, desc='BPM', text=[str(bpm)]))\n",
        "        audio.tags.add(TXXX(encoding=3, desc='Key', text=[key]))\n",
        "\n",
        "        audio.save()\n",
        "        # print(f\"Metadatos actualizados para {filepath} localmente.\") # Comentado para minimizar output\n",
        "    except ID3NoHeaderError:\n",
        "        print(f\"ADVERTENCIA: No se encontraron tags ID3 válidos en '{filepath}'. No se pudieron actualizar los metadatos.\")\n",
        "    except Exception as e:\n",
        "        print(f\"ERROR: Falló la actualización de metadatos de '{filepath}'. Mensaje: {e}\")\n",
        "\n",
        "def move_drive_file(drive_service, file_id, old_parent_id, new_parent_id):\n",
        "    \"\"\"Mueve un archivo de Google Drive de una carpeta a otra. Maneja errores de la API de Drive.\"\"\"\n",
        "    try:\n",
        "        file_metadata = drive_service.files().get(fileId=file_id, fields='parents,name').execute()\n",
        "        current_parents = file_metadata.get('parents', [])\n",
        "\n",
        "        if old_parent_id not in current_parents:\n",
        "            print(f\"ADVERTENCIA: Archivo '{file_metadata.get('name', 'N/A')}' (ID: {file_id}) NO se encontró en la carpeta de origen '{old_parent_id}'.\")\n",
        "            print(\"POSIBLE SOLUCIÓN: El archivo ya fue movido manualmente, eliminado, o el ID de la carpeta de origen es incorrecto. No se intentará mover.\")\n",
        "            return False\n",
        "\n",
        "        drive_service.files().update(\n",
        "            fileId=file_id,\n",
        "            addParents=new_parent_id,\n",
        "            removeParents=old_parent_id,\n",
        "            fields='id, parents'\n",
        "        ).execute()\n",
        "        # print(f\"Archivo {file_id} movido exitosamente en Google Drive.\") # Comentado para minimizar output\n",
        "        return True\n",
        "    except Exception as e:\n",
        "        print(f\"ERROR: Falló el movimiento del archivo '{file_metadata.get('name', 'N/A')}' (ID: {file_id}) en Google Drive. Mensaje: {e}\")\n",
        "        print(\"POSIBLE SOLUCIÓN: Problema de permisos de la cuenta de servicio en la carpeta de destino, ID de carpeta incorrecto, o error temporal de Google Drive.\")\n",
        "        return False\n",
        "\n",
        "def main():\n",
        "    print(\"\\n--- INICIANDO PROCESO DE ORGANIZACIÓN DE BEATS ---\")\n",
        "    gc, drive_service, creds = authenticate_google()\n",
        "    if gc is None:\n",
        "        print(\"SCRIPT DETENIDO: No se pudo autenticar con Google.\")\n",
        "        return\n",
        "\n",
        "    spreadsheet_id_from_config = read_spreadsheet_id_from_config() # Leer el ID desde el archivo de configuración\n",
        "\n",
        "    # Pasamos el ID leído del config al intentar obtener la hoja\n",
        "    worksheet, records, headers = get_sheet_data(gc, spreadsheet_id_from_config, WORKSHEET_NAME)\n",
        "    if worksheet is None:\n",
        "        print(\"SCRIPT DETENIDO: No se pudo acceder/crear la hoja de cálculo.\")\n",
        "        return\n",
        "\n",
        "    # Verificar que las columnas requeridas existan en la hoja\n",
        "    required_cols = ['Nombre del Archivo Original', 'Género', 'Ruta en Drive (ID)', 'Enlace de Google Drive', 'BPM', 'Clave Armónica', 'Estado (PENDIENTE/ORGANIZADO)']\n",
        "    if not all(col in headers for col in required_cols):\n",
        "        print(\"ERROR CRÍTICO: Faltan una o más columnas requeridas en tu Google Sheet o los nombres no coinciden.\")\n",
        "        print(\"VERIFICAR: La PRIMERA FILA de tu Google Sheet debe tener estas columnas (nombres EXACTOS, incluyendo mayúsculas/minúsculas y espacios):\")\n",
        "        for col in required_cols:\n",
        "            print(f\"- '{col}'\")\n",
        "        print(\"SCRIPT DETENIDO: Por favor, corrige los nombres de las columnas en tu Google Sheet.\")\n",
        "        return\n",
        "\n",
        "    print(\"\\n--- Paso 1: Actualizando Catálogo de Beats en Google Sheet ---\")\n",
        "\n",
        "    drive_files_in_new_folder = get_drive_file_info(drive_service, NUEVOS_BEATS_FOLDER_ID)\n",
        "    if not drive_files_in_new_folder and drive_files_in_new_folder != {}: # Si hubo un error en get_drive_file_info y no es un diccionario vacío\n",
        "        print(\"SCRIPT DETENIDO: No se pudo obtener información de archivos en la carpeta 'Nuevos Beats'.\")\n",
        "        return\n",
        "\n",
        "    existing_sheet_names = {rec.get('Nombre del Archivo Original') for rec in records if rec.get('Nombre del Archivo Original')} # Filtrar None o vacíos\n",
        "\n",
        "    new_beats_added_to_sheet = 0\n",
        "    for file_name, info in drive_files_in_new_folder.items():\n",
        "        if file_name not in existing_sheet_names:\n",
        "            row_data = {\n",
        "                'Nombre del Archivo Original': file_name,\n",
        "                'Género': '',\n",
        "                'Ruta en Drive (ID)': info['id'],\n",
        "                'Enlace de Google Drive': f\"https://drive.google.com/file/d/{info['id']}/view\",\n",
        "                'BPM': '',\n",
        "                'Clave Armónica': '',\n",
        "                'Estado (PENDIENTE/ORGANIZADO)': 'PENDIENTE_ANALISIS_Y_MOVIMIENTO'\n",
        "            }\n",
        "            new_row_values = [row_data.get(header, '') for header in headers]\n",
        "            try:\n",
        "                worksheet.append_row(new_row_values)\n",
        "                records.append(row_data) # Actualizar records localmente\n",
        "                new_beats_added_to_sheet += 1\n",
        "                print(f\" -> Añadido a la hoja: {file_name}\")\n",
        "            except Exception as e:\n",
        "                print(f\"ERROR: No se pudo añadir la fila para '{file_name}' a la hoja. Mensaje: {e}\")\n",
        "                print(\"POSIBLE SOLUCIÓN: Problema de escritura en Google Sheet o cuota API.\")\n",
        "\n",
        "    if new_beats_added_to_sheet > 0:\n",
        "        print(f\"\\n--- Se han añadido {new_beats_added_to_sheet} nuevos beats a la hoja. ---\")\n",
        "        print(\"ACCIÓN REQUERIDA: Abre tu Google Sheet y ASIGNA UN GÉNERO a los beats con estado 'PENDIENTE_ANALISIS_Y_MOVIMIENTO' o 'ANALIZADO_PENDIENTE_GENERO' (columna 'Género').\")\n",
        "        # Recargar datos de la hoja para asegurar que los registros recién añadidos están presentes para el siguiente paso\n",
        "        try:\n",
        "            worksheet = gc.open_by_key(worksheet.spreadsheet.id).worksheet(WORKSHEET_NAME)\n",
        "            records = worksheet.get_all_records()\n",
        "            headers = worksheet.row_values(1)\n",
        "        except gspread.exceptions.WorksheetNotFound:\n",
        "            print(f\"ADVERTENCIA: La pestaña '{WORKSHEET_NAME}' no se encontró al recargar. Usando la primera.\")\n",
        "            worksheet = gc.open_by_key(worksheet.spreadsheet.id).get_worksheet(0)\n",
        "            records = worksheet.get_all_records()\n",
        "            headers = worksheet.row_values(1)\n",
        "        except Exception as e:\n",
        "            print(f\"ERROR: Falló la recarga de datos de la hoja después de añadir nuevos beats. Mensaje: {e}\")\n",
        "            print(\"SCRIPT DETENIDO: Por favor, revisa la hoja y ejecuta de nuevo.\")\n",
        "            return\n",
        "\n",
        "    print(\"\\n--- Paso 2: Analizando y Moviendo Beats ---\")\n",
        "    processed_count = 0\n",
        "    for i, record in enumerate(records):\n",
        "        row_num = i + 2\n",
        "        file_name = record.get('Nombre del Archivo Original')\n",
        "        drive_file_id = record.get('Ruta en Drive (ID)')\n",
        "        genre = record.get('Género', '').strip()\n",
        "        status = record.get('Estado (PENDIENTE/ORGANIZADO)')\n",
        "\n",
        "        if not file_name or not drive_file_id:\n",
        "            continue\n",
        "\n",
        "        if (status == 'PENDIENTE_ANALISIS_Y_MOVIMIENTO' or (not record.get('BPM') or not record.get('Clave Armónica')) or \\\n",
        "           status == 'ERROR_DESCARGA' or status == 'ERROR_ANALISIS') and status != 'ORGANIZADO':\n",
        "            if status == 'ORGANIZADO': continue\n",
        "\n",
        "            print(f\" -> Analizando beat: {file_name}...\")\n",
        "            local_filepath = None\n",
        "            try:\n",
        "                local_filepath = download_file(drive_service, drive_file_id, file_name, DOWNLOAD_TEMP_DIR, creds)\n",
        "                if local_filepath:\n",
        "                    bpm, key = analyze_audio(local_filepath)\n",
        "                    update_sheet_row(worksheet, row_num, 'BPM', bpm, headers)\n",
        "                    update_sheet_row(worksheet, row_num, 'Clave Armónica', key, headers)\n",
        "                    print(f\"    - Análisis completado: BPM={bpm}, Clave={key}\")\n",
        "                    if not genre:\n",
        "                        update_sheet_row(worksheet, row_num, 'Estado (PENDIENTE/ORGANIZADO)', 'ANALIZADO_PENDIENTE_GENERO', headers)\n",
        "                    else:\n",
        "                        update_sheet_row(worksheet, row_num, 'Estado (PENDIENTE/ORGANIZADO)', 'PENDIENTE_MOVIMIENTO', headers)\n",
        "                else:\n",
        "                    update_sheet_row(worksheet, row_num, 'Estado (PENDIENTE/ORGANIZADO)', 'ERROR_DESCARGA', headers)\n",
        "            except Exception as e:\n",
        "                print(f\"    - ERROR FATAL al analizar/descargar '{file_name}'. Mensaje: {e}\")\n",
        "                update_sheet_row(worksheet, row_num, 'Estado (PENDIENTE/ORGANIZADO)', 'ERROR_ANALISIS', headers)\n",
        "            finally:\n",
        "                if local_filepath and os.path.exists(local_filepath):\n",
        "                    try: os.remove(local_filepath)\n",
        "                    except OSError as e: print(f\"ADVERTENCIA: No se pudo eliminar archivo temporal '{local_filepath}'. Mensaje: {e}\")\n",
        "            continue\n",
        "\n",
        "        if genre and (status == 'ANALIZADO_PENDIENTE_GENERO' or status == 'PENDIENTE_MOVIMIENTO' or \\\n",
        "                      status == 'ERROR_MOVIMIENTO' or status == 'ERROR_MOVIMIENTO_CARPETA' or status == 'ERROR_GENERAL_MOVIMIENTO'):\n",
        "            if status == 'ORGANIZADO': continue\n",
        "\n",
        "            print(f\" -> Moviendo beat: {file_name} (Género: {genre})...\")\n",
        "            try:\n",
        "                query_folder = f\"name = '{genre}' and mimeType = 'application/vnd.google-apps.folder' and '{ORGANIZED_BEATS_PARENT_FOLDER_ID}' in parents and trashed = false\"\n",
        "                results_folder = drive_service.files().list(q=query_folder, fields=\"files(id, name)\").execute()\n",
        "                items_folder = results_folder.get('files', [])\n",
        "\n",
        "                target_genre_folder_id = None\n",
        "                if items_folder:\n",
        "                    target_genre_folder_id = items_folder[0]['id']\n",
        "                else:\n",
        "                    file_metadata = {'name': genre, 'mimeType': 'application/vnd.google-apps.folder', 'parents': [ORGANIZED_BEATS_PARENT_FOLDER_ID]}\n",
        "                    new_folder = drive_service.files().create(body=file_metadata, fields='id').execute()\n",
        "                    target_genre_folder_id = new_folder.get('id')\n",
        "                    print(f\"    - Carpeta de género '{genre}' creada en Drive con ID: {target_genre_folder_id}.\")\n",
        "\n",
        "                if target_genre_folder_id:\n",
        "                    success = move_drive_file(drive_service, drive_file_id, NUEVOS_BEATS_FOLDER_ID, target_genre_folder_id)\n",
        "                    if success:\n",
        "                        update_sheet_row(worksheet, row_num, 'Estado (PENDIENTE/ORGANIZADO)', 'ORGANIZADO', headers)\n",
        "                        print(f\"    - Movido exitosamente a '{genre}' en Drive.\")\n",
        "                        processed_count += 1\n",
        "                    else:\n",
        "                        update_sheet_row(worksheet, row_num, 'Estado (PENDIENTE/ORGANIZADO)', 'ERROR_MOVIMIENTO', headers)\n",
        "                else:\n",
        "                    update_sheet_row(worksheet, row_num, 'Estado (PENDIENTE/ORGANIZADO)', 'ERROR_MOVIMIENTO_CARPETA', headers)\n",
        "            except Exception as e:\n",
        "                print(f\"    - ERROR FATAL al mover '{file_name}'. Mensaje: {e}\")\n",
        "                update_sheet_row(worksheet, row_num, 'Estado (PENDIENTE/ORGANIZADO)', 'ERROR_GENERAL_MOVIMIENTO', headers)\n",
        "        elif status == 'ORGANIZADO':\n",
        "            pass\n",
        "        else:\n",
        "            pass\n",
        "\n",
        "    print(f\"\\n--- Proceso Completado. Beats procesados en esta ejecución: {processed_count} ---\")\n",
        "    print(\"VERIFICAR: Revisa la terminal para ver si hubo errores y tu Google Sheet para el estado de los beats.\")\n",
        "\n",
        "if __name__ == \"__main__\":\n",
        "    main()"
      ]
    },
    {
      "cell_type": "code",
      "source": [
        "# @title Configure Gemini API key\n",
        "\n",
        "import google.generativeai as genai\n",
        "from google.colab import userdata\n",
        "\n",
        "gemini_api_secret_name = 'GOOGLE_API_KEY'  # @param {type: \"string\"}\n",
        "\n",
        "try:\n",
        "  GOOGLE_API_KEY=userdata.get(gemini_api_secret_name)\n",
        "  genai.configure(api_key=GOOGLE_API_KEY)\n",
        "except userdata.SecretNotFoundError as e:\n",
        "   print(f'Secret not found\\n\\nThis expects you to create a secret named {gemini_api_secret_name} in Colab\\n\\nVisit https://aistudio.google.com/app/apikey to create an API key\\n\\nStore that in the secrets section on the left side of the notebook (key icon)\\n\\nName the secret {gemini_api_secret_name}')\n",
        "   raise e\n",
        "except userdata.NotebookAccessError as e:\n",
        "  print(f'You need to grant this notebook access to the {gemini_api_secret_name} secret in order for the notebook to access Gemini on your behalf.')\n",
        "  raise e\n",
        "except Exception as e:\n",
        "  print(f\"There was an unknown error. Ensure you have a secret {gemini_api_secret_name} stored in Colab and it's a valid key from https://aistudio.google.com/app/apikey\")\n",
        "  raise e"
      ],
      "metadata": {
        "id": "rfnNx2gkYEuL"
      },
      "execution_count": 3,
      "outputs": []
    },
    {
      "cell_type": "code",
      "source": [
        "!pip install matplotlib-venn"
      ],
      "metadata": {
        "id": "jKMOzksgYHoN",
        "colab": {
          "base_uri": "https://localhost:8080/"
        },
        "outputId": "451c0502-f29c-4799-d9b2-e2ad267c9bdd"
      },
      "execution_count": 4,
      "outputs": [
        {
          "output_type": "stream",
          "name": "stdout",
          "text": [
            "Requirement already satisfied: matplotlib-venn in /usr/local/lib/python3.11/dist-packages (1.1.2)\n",
            "Requirement already satisfied: matplotlib in /usr/local/lib/python3.11/dist-packages (from matplotlib-venn) (3.10.0)\n",
            "Requirement already satisfied: numpy in /usr/local/lib/python3.11/dist-packages (from matplotlib-venn) (2.0.2)\n",
            "Requirement already satisfied: scipy in /usr/local/lib/python3.11/dist-packages (from matplotlib-venn) (1.15.3)\n",
            "Requirement already satisfied: contourpy>=1.0.1 in /usr/local/lib/python3.11/dist-packages (from matplotlib->matplotlib-venn) (1.3.2)\n",
            "Requirement already satisfied: cycler>=0.10 in /usr/local/lib/python3.11/dist-packages (from matplotlib->matplotlib-venn) (0.12.1)\n",
            "Requirement already satisfied: fonttools>=4.22.0 in /usr/local/lib/python3.11/dist-packages (from matplotlib->matplotlib-venn) (4.58.4)\n",
            "Requirement already satisfied: kiwisolver>=1.3.1 in /usr/local/lib/python3.11/dist-packages (from matplotlib->matplotlib-venn) (1.4.8)\n",
            "Requirement already satisfied: packaging>=20.0 in /usr/local/lib/python3.11/dist-packages (from matplotlib->matplotlib-venn) (24.2)\n",
            "Requirement already satisfied: pillow>=8 in /usr/local/lib/python3.11/dist-packages (from matplotlib->matplotlib-venn) (11.2.1)\n",
            "Requirement already satisfied: pyparsing>=2.3.1 in /usr/local/lib/python3.11/dist-packages (from matplotlib->matplotlib-venn) (3.2.3)\n",
            "Requirement already satisfied: python-dateutil>=2.7 in /usr/local/lib/python3.11/dist-packages (from matplotlib->matplotlib-venn) (2.9.0.post0)\n",
            "Requirement already satisfied: six>=1.5 in /usr/local/lib/python3.11/dist-packages (from python-dateutil>=2.7->matplotlib->matplotlib-venn) (1.17.0)\n"
          ]
        }
      ]
    },
    {
      "cell_type": "code",
      "source": [
        "# https://pypi.python.org/pypi/pydot\n",
        "!apt-get -qq install -y graphviz && pip install pydot\n",
        "import pydot"
      ],
      "metadata": {
        "id": "Ia7tgDU2YKCN",
        "colab": {
          "base_uri": "https://localhost:8080/"
        },
        "outputId": "24a14473-6a9d-4ecd-a158-3a09d5ff585a"
      },
      "execution_count": 5,
      "outputs": [
        {
          "output_type": "stream",
          "name": "stdout",
          "text": [
            "Requirement already satisfied: pydot in /usr/local/lib/python3.11/dist-packages (3.0.4)\n",
            "Requirement already satisfied: pyparsing>=3.0.9 in /usr/local/lib/python3.11/dist-packages (from pydot) (3.2.3)\n"
          ]
        }
      ]
    },
    {
      "cell_type": "code",
      "source": [
        "!apt-get -qq install -y libfluidsynth1"
      ],
      "metadata": {
        "id": "jgV1gZIbYHoN",
        "colab": {
          "base_uri": "https://localhost:8080/"
        },
        "outputId": "35aa7612-3739-40a0-f9c9-d32e8cddcaef"
      },
      "execution_count": 6,
      "outputs": [
        {
          "output_type": "stream",
          "name": "stdout",
          "text": [
            "E: Package 'libfluidsynth1' has no installation candidate\n"
          ]
        }
      ]
    },
    {
      "cell_type": "code",
      "source": [
        "from google.colab import userdata\n",
        "userdata.get('secretName')"
      ],
      "metadata": {
        "id": "GacQ9JCYHGgE",
        "colab": {
          "base_uri": "https://localhost:8080/",
          "height": 35
        },
        "outputId": "3588c198-d0ba-4cfc-b245-f26b739c7082"
      },
      "execution_count": 8,
      "outputs": [
        {
          "output_type": "execute_result",
          "data": {
            "text/plain": [
              "'braided-grammar-465202-t4-f058b52a6154'"
            ],
            "application/vnd.google.colaboratory.intrinsic+json": {
              "type": "string"
            }
          },
          "metadata": {},
          "execution_count": 8
        }
      ]
    },
    {
      "cell_type": "code",
      "metadata": {
        "id": "fbe89707",
        "colab": {
          "base_uri": "https://localhost:8080/"
        },
        "outputId": "e94afb58-dacd-4eba-ec9b-53294c86c4c7"
      },
      "source": [
        "%pip install mutagen"
      ],
      "execution_count": 9,
      "outputs": [
        {
          "output_type": "stream",
          "name": "stdout",
          "text": [
            "Requirement already satisfied: mutagen in /usr/local/lib/python3.11/dist-packages (1.47.0)\n"
          ]
        }
      ]
    },
    {
      "cell_type": "markdown",
      "source": [
        "# Nueva sección"
      ],
      "metadata": {
        "id": "wCgTz_RHGpd1"
      }
    },
    {
      "cell_type": "markdown",
      "source": [
        "Add `%load_ext cudf.pandas` before importing pandas to speed up operations using GPU"
      ],
      "metadata": {
        "id": "XNH4S2RISNhS"
      }
    },
    {
      "cell_type": "code",
      "source": [
        "# @title Create a prompt\n",
        "\n",
        "import google.generativeai as genai\n",
        "from google.colab import userdata\n",
        "\n",
        "api_key_name = 'GOOGLE_API_KEY' # @param {type: \"string\"}\n",
        "prompt = 'ANALIZE KEY AND BPM THEN ADD TO SHEET AND FILE METADATA IF NECESARY' # @param {type: \"string\"}\n",
        "system_instructions = 'CONSISTENT RESULTS' # @param {type: \"string\"}\n",
        "model = 'gemini-2.0-flash' # @param {type: \"string\"} [\"gemini-1.0-pro\", \"gemini-1.5-pro\", \"gemini-1.5-flash\", \"gemini-2.0-flash\"]\n",
        "temperature = 0.5 # @param {type: \"slider\", min: 0, max: 2, step: 0.05}\n",
        "stop_sequence = '' # @param {type: \"string\"}\n",
        "\n",
        "if model == 'gemini-1.0-pro' and system_instructions is not None:\n",
        "  system_instructions = None\n",
        "  print('\\x1b[31m(WARNING: System instructions ignored, gemini-1.0-pro does not support system instructions)\\x1b[0m')\n",
        "\n",
        "if model == 'gemini-1.0-pro' and temperature > 1:\n",
        "  temperature = 1\n",
        "  print('\\x1b[34m(INFO: Temperature set to 1, gemini-1.0-pro does not support temperature > 1)\\x1b[0m')\n",
        "\n",
        "if system_instructions == '':\n",
        "  system_instructions = None\n",
        "\n",
        "api_key = userdata.get(api_key_name)\n",
        "genai.configure(api_key=api_key)\n",
        "model = genai.GenerativeModel(model, system_instruction=system_instructions)\n",
        "\n",
        "# Fix: Ensure stop_sequences is None or a list of non-empty strings\n",
        "stop_sequences = [stop_sequence] if stop_sequence else None\n",
        "\n",
        "config = genai.GenerationConfig(temperature=temperature, stop_sequences=stop_sequences)\n",
        "response = model.generate_content(contents=[prompt], generation_config=config)\n",
        "response.text"
      ],
      "metadata": {
        "id": "2jKLtNrXSQ2w",
        "colab": {
          "base_uri": "https://localhost:8080/",
          "height": 109
        },
        "outputId": "06a31f03-c9e0-46ca-a856-97d070a440b4"
      },
      "execution_count": 10,
      "outputs": [
        {
          "output_type": "execute_result",
          "data": {
            "text/plain": [
              "'Okay, I can do that, but I need more information to give you a precise process. Here\\'s a breakdown of what\\'s involved and what I need from you:\\n\\n**1. Understanding the Task:**\\n\\n*   **Key and BPM Analysis:** This involves using software or algorithms to determine the musical key (e.g., C Major, A minor) and the tempo (Beats Per Minute) of an audio file.\\n*   **Adding to Sheet:** This implies you have some kind of spreadsheet or database where you want to store the analyzed key and BPM data.  What kind of sheet is it? (Google Sheet, Excel, CSV, etc.)\\n*   **File Metadata:** This means embedding the key and BPM information directly into the audio file itself. This is typically done using ID3 tags (for MP3 files) or similar metadata formats for other audio formats.\\n*   **If Necessary:** This means you only want to add the metadata if it\\'s missing or incorrect.\\n\\n**2. Information I Need From You:**\\n\\nTo give you the best instructions, tell me:\\n\\n*   **Audio File Format(s):** What type of audio files are you working with? (e.g., MP3, WAV, FLAC, AIFF).  This is crucial for determining the correct metadata format.\\n*   **Software/Tools You\\'re Using (If Any):** Do you already have software for analyzing key and BPM? (e.g., Mixed In Key, Traktor, Serato, Ableton Live, Logic Pro X, online BPM analyzers).  If so, tell me which one(s).  If not, I can suggest some options.\\n*   **Spreadsheet Type:** What type of spreadsheet are you using? (e.g., Google Sheets, Microsoft Excel, CSV file).\\n*   **Spreadsheet Structure:** What columns does your spreadsheet have?  Specifically, which column contains the filename, and which columns should contain the key and BPM?\\n*   **Automation Level:** Are you looking for a fully automated solution (e.g., a script that does everything), or are you okay with a semi-manual process (e.g., analyzing files and then manually entering the data)?\\n*   **Operating System:** Are you using Windows, macOS, or Linux? This affects the available software and scripting options.\\n*   **Number of Files:** Are we talking about a few files, or a large library?\\n\\n**3. General Workflow (Example - Assuming MP3 Files, Google Sheets, and Mixed In Key):**\\n\\nHere\\'s a general outline of how the process *might* look, assuming you\\'re using MP3 files, want to store the data in a Google Sheet, and are using Mixed In Key for analysis:\\n\\n1.  **Analyze Audio Files with Key/BPM Software (e.g., Mixed In Key):**\\n    *   Import your audio files into Mixed In Key (or your chosen software).\\n    *   Let the software analyze the key and BPM of each track.\\n    *   Mixed In Key can automatically write the analyzed key/BPM to the ID3 tags of the MP3 files. Configure Mixed In Key to do this.\\n\\n2.  **Update Spreadsheet (Google Sheets):**\\n    *   **Option 1 (Manual):**  Open your Google Sheet.  For each file, manually copy the key and BPM from Mixed In Key (or from the file\\'s ID3 tags if Mixed In Key wrote them) into the appropriate columns in your spreadsheet.\\n    *   **Option 2 (Semi-Automated - Google Apps Script):**  Write a Google Apps Script that:\\n        *   Reads a list of filenames from a specific column in your Google Sheet.\\n        *   For each filename:\\n            *   Reads the ID3 tags of the corresponding MP3 file (you\\'ll need a library for reading ID3 tags in Google Apps Script - there are some available).\\n            *   Extracts the Key and BPM from the ID3 tags.\\n            *   Writes the Key and BPM to the appropriate columns in the Google Sheet.\\n    *   **Option 3 (More Automated - Python with Google Sheets API):**  Use Python with libraries like `mutagen` (for reading ID3 tags) and the Google Sheets API to automate the process.  This is more complex but can be very efficient for large libraries.\\n\\n3.  **Metadata Handling (If Necessary):**\\n    *   Since Mixed In Key can write the key and BPM to the ID3 tags, this step might be redundant.  However, if you\\'re using a different analysis tool, you might need to use a separate tool (like Mp3tag) to add or update the ID3 tags.\\n    *   If you choose to use a script (Google Apps Script or Python), you can also include code to update the ID3 tags if they are missing or incorrect.\\n\\n**4. Example Python Script (Conceptual - Requires Adaptation):**\\n\\n```python\\n# This is a simplified example and needs error handling and proper configuration.\\nimport mutagen\\nimport gspread  # For Google Sheets API\\n\\n# --- Configuration ---\\nSPREADSHEET_ID = \"your_spreadsheet_id\"\\nFILENAME_COLUMN = 1  # Column A (1-indexed)\\nKEY_COLUMN = 2      # Column B\\nBPM_COLUMN = 3      # Column C\\nAUDIO_FILE_DIRECTORY = \"/path/to/your/audio/files/\"\\n# --- End Configuration ---\\n\\n# Authenticate with Google Sheets API (you\\'ll need to set up credentials)\\ngc = gspread.service_account(filename=\\'path/to/your/credentials.json\\') # Replace with your credentials file\\nsh = gc.open_by_key(SPREADSHEET_ID)\\nworksheet = sh.sheet1\\n\\ndef get_mp3_metadata(filename):\\n    \"\"\"Extracts key and BPM from an MP3 file\\'s ID3 tags.\"\"\"\\n    try:\\n        audio = mutagen.File(filename)\\n        key = audio.get(\\'TKEY\\', [\\'\\'])[0]  # Or whatever tag your key is stored in\\n        bpm = audio.get(\\'TBPM\\', [\\'\\'])[0]  # Or whatever tag your BPM is stored in\\n        return key, bpm\\n    except Exception as e:\\n        print(f\"Error reading metadata from {filename}: {e}\")\\n        return None, None\\n\\ndef main():\\n    \"\"\"Reads filenames from the sheet, analyzes, and updates the sheet.\"\"\"\\n    filenames = worksheet.col_values(FILENAME_COLUMN)[1:]  # Skip header row\\n    for i, filename in enumerate(filenames):\\n        filepath = AUDIO_FILE_DIRECTORY + filename\\n        key, bpm = get_mp3_metadata(filepath)\\n\\n        if key and bpm:\\n            row_number = i + 2  # Account for header row and 0-based indexing\\n            worksheet.update_cell(row_number, KEY_COLUMN, key)\\n            worksheet.update_cell(row_number, BPM_COLUMN, bpm)\\n            print(f\"Updated {filename} with Key: {key}, BPM: {bpm}\")\\n        else:\\n            print(f\"Could not retrieve metadata for {filename}\")\\n\\nif __name__ == \"__main__\":\\n    main()\\n```\\n\\n**Important Considerations:**\\n\\n*   **Accuracy of Analysis:** Key and BPM detection are not always perfect.  You may need to manually verify and correct the results.\\n*   **Metadata Tagging Standards:**  There\\'s no single, universally agreed-upon standard for storing key information in ID3 tags.  Different software might use different tags.  You\\'ll need to figure out which tags your software uses and adjust the scripts accordingly.  Common tags are `TKEY` (for key) and `TBPM` (for BPM).\\n*   **Error Handling:**  The scripts above lack robust error handling.  You\\'ll need to add error handling to deal with missing files, invalid metadata, and API errors.\\n*   **API Limits:** Google Sheets API has usage limits.  If you\\'re processing a large number of files, you might need to implement rate limiting in your script.\\n*   **Security:** Be careful when storing API credentials.  Don\\'t hardcode them directly into your script.  Use environment variables or a secure configuration file.\\n\\n**Next Steps:**\\n\\nProvide me with the information I requested above, and I can give you more specific and tailored instructions.  Let me know what you\\'re trying to accomplish, and I\\'ll help you get there!\\n'"
            ],
            "application/vnd.google.colaboratory.intrinsic+json": {
              "type": "string"
            }
          },
          "metadata": {},
          "execution_count": 10
        }
      ]
    },
    {
      "cell_type": "code",
      "source": [
        "from google.colab import userdata\n",
        "userdata.get('secretName')"
      ],
      "metadata": {
        "id": "qOZPh_zLVzfj",
        "colab": {
          "base_uri": "https://localhost:8080/",
          "height": 35
        },
        "outputId": "08bb7a4f-b351-4220-da8f-f979a0a5ad7b"
      },
      "execution_count": 11,
      "outputs": [
        {
          "output_type": "execute_result",
          "data": {
            "text/plain": [
              "'braided-grammar-465202-t4-f058b52a6154'"
            ],
            "application/vnd.google.colaboratory.intrinsic+json": {
              "type": "string"
            }
          },
          "metadata": {},
          "execution_count": 11
        }
      ]
    },
    {
      "cell_type": "code",
      "source": [
        "%load_ext cudf.pandas\n",
        "import pandas as pd\n",
        "import numpy as np\n",
        "\n",
        "# Randomly generated dataset of parking violations-\n",
        "# Define the number of rows\n",
        "num_rows = 1000000\n",
        "\n",
        "states = [\"NY\", \"NJ\", \"CA\", \"TX\"]\n",
        "violations = [\"Double Parking\", \"Expired Meter\", \"No Parking\",\n",
        "              \"Fire Hydrant\", \"Bus Stop\"]\n",
        "vehicle_types = [\"SUBN\", \"SDN\"]\n",
        "\n",
        "# Create a date range\n",
        "start_date = \"2022-01-01\"\n",
        "end_date = \"2022-12-31\"\n",
        "dates = pd.date_range(start=start_date, end=end_date, freq='D')\n",
        "\n",
        "# Generate random data\n",
        "data = {\n",
        "    \"Registration State\": np.random.choice(states, size=num_rows),\n",
        "    \"Violation Description\": np.random.choice(violations, size=num_rows),\n",
        "    \"Vehicle Body Type\": np.random.choice(vehicle_types, size=num_rows),\n",
        "    \"Issue Date\": np.random.choice(dates, size=num_rows),\n",
        "    \"Ticket Number\": np.random.randint(1000000000, 9999999999, size=num_rows)\n",
        "}\n",
        "\n",
        "# Create a DataFrame\n",
        "df = pd.DataFrame(data)\n",
        "\n",
        "# Which parking violation is most commonly committed by vehicles from various U.S states?\n",
        "\n",
        "(df[[\"Registration State\", \"Violation Description\"]]  # get only these two columns\n",
        " .value_counts()  # get the count of offences per state and per type of offence\n",
        " .groupby(\"Registration State\")  # group by state\n",
        " .head(1)  # get the first row in each group (the type of offence with the largest count)\n",
        " .sort_index()  # sort by state name\n",
        " .reset_index()\n",
        ")"
      ],
      "metadata": {
        "id": "uVeXQAvjSNhT"
      },
      "execution_count": null,
      "outputs": []
    },
    {
      "cell_type": "code",
      "metadata": {
        "id": "b17591dc",
        "outputId": "e716c106-c5fb-4b44-9935-f05cc01297ba",
        "colab": {
          "base_uri": "https://localhost:8080/"
        }
      },
      "source": [
        "%pip install mutagen"
      ],
      "execution_count": 13,
      "outputs": [
        {
          "output_type": "stream",
          "name": "stdout",
          "text": [
            "Requirement already satisfied: mutagen in /usr/local/lib/python3.11/dist-packages (1.47.0)\n"
          ]
        }
      ]
    }
  ]
}